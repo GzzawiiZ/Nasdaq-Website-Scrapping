{
 "cells": [
  {
   "cell_type": "code",
   "execution_count": 8,
   "metadata": {},
   "outputs": [
    {
     "ename": "StaleElementReferenceException",
     "evalue": "Message: stale element reference: stale element not found in the current frame\n  (Session info: chrome=123.0.6312.106); For documentation on this error, please visit: https://www.selenium.dev/documentation/webdriver/troubleshooting/errors#stale-element-reference-exception\nStacktrace:\n\tGetHandleVerifier [0x00F74CE3+225091]\n\t(No symbol) [0x00EA4E31]\n\t(No symbol) [0x00D49A7A]\n\t(No symbol) [0x00D4DEB0]\n\t(No symbol) [0x00D4F862]\n\t(No symbol) [0x00D4F8E0]\n\t(No symbol) [0x00D7DC71]\n\t(No symbol) [0x00D9F55C]\n\t(No symbol) [0x00D7930E]\n\t(No symbol) [0x00D9F7F4]\n\t(No symbol) [0x00DB5CB0]\n\t(No symbol) [0x00D9F2F6]\n\t(No symbol) [0x00D779B9]\n\t(No symbol) [0x00D7879D]\n\tsqlite3_dbdata_init [0x013E9A83+4064547]\n\tsqlite3_dbdata_init [0x013F108A+4094762]\n\tsqlite3_dbdata_init [0x013EB988+4072488]\n\tsqlite3_dbdata_init [0x010EC9E9+930953]\n\t(No symbol) [0x00EB0804]\n\t(No symbol) [0x00EAAD28]\n\t(No symbol) [0x00EAAE51]\n\t(No symbol) [0x00E9CAC0]\n\tBaseThreadInitThunk [0x76147BA9+25]\n\tRtlInitializeExceptionChain [0x7732BE3B+107]\n\tRtlClearBits [0x7732BDBF+191]\n",
     "output_type": "error",
     "traceback": [
      "\u001b[1;31m---------------------------------------------------------------------------\u001b[0m",
      "\u001b[1;31mStaleElementReferenceException\u001b[0m            Traceback (most recent call last)",
      "Cell \u001b[1;32mIn[8], line 45\u001b[0m\n\u001b[0;32m     41\u001b[0m \u001b[38;5;28;01mtry\u001b[39;00m:\n\u001b[0;32m     42\u001b[0m     cells \u001b[38;5;241m=\u001b[39m WebDriverWait(row, \u001b[38;5;241m10\u001b[39m)\u001b[38;5;241m.\u001b[39muntil(\n\u001b[0;32m     43\u001b[0m         EC\u001b[38;5;241m.\u001b[39mpresence_of_all_elements_located((By\u001b[38;5;241m.\u001b[39mXPATH, \u001b[38;5;124m\"\u001b[39m\u001b[38;5;124m.//td\u001b[39m\u001b[38;5;124m\"\u001b[39m))\n\u001b[0;32m     44\u001b[0m     )\n\u001b[1;32m---> 45\u001b[0m     row_data \u001b[38;5;241m=\u001b[39m [cell\u001b[38;5;241m.\u001b[39mtext \u001b[38;5;28;01mfor\u001b[39;00m cell \u001b[38;5;129;01min\u001b[39;00m cells]\n\u001b[0;32m     46\u001b[0m     data\u001b[38;5;241m.\u001b[39mappend(row_data)\n\u001b[0;32m     47\u001b[0m \u001b[38;5;28;01mexcept\u001b[39;00m TimeoutException:\n",
      "Cell \u001b[1;32mIn[8], line 45\u001b[0m, in \u001b[0;36m<listcomp>\u001b[1;34m(.0)\u001b[0m\n\u001b[0;32m     41\u001b[0m \u001b[38;5;28;01mtry\u001b[39;00m:\n\u001b[0;32m     42\u001b[0m     cells \u001b[38;5;241m=\u001b[39m WebDriverWait(row, \u001b[38;5;241m10\u001b[39m)\u001b[38;5;241m.\u001b[39muntil(\n\u001b[0;32m     43\u001b[0m         EC\u001b[38;5;241m.\u001b[39mpresence_of_all_elements_located((By\u001b[38;5;241m.\u001b[39mXPATH, \u001b[38;5;124m\"\u001b[39m\u001b[38;5;124m.//td\u001b[39m\u001b[38;5;124m\"\u001b[39m))\n\u001b[0;32m     44\u001b[0m     )\n\u001b[1;32m---> 45\u001b[0m     row_data \u001b[38;5;241m=\u001b[39m [\u001b[43mcell\u001b[49m\u001b[38;5;241;43m.\u001b[39;49m\u001b[43mtext\u001b[49m \u001b[38;5;28;01mfor\u001b[39;00m cell \u001b[38;5;129;01min\u001b[39;00m cells]\n\u001b[0;32m     46\u001b[0m     data\u001b[38;5;241m.\u001b[39mappend(row_data)\n\u001b[0;32m     47\u001b[0m \u001b[38;5;28;01mexcept\u001b[39;00m TimeoutException:\n",
      "File \u001b[1;32mc:\\Users\\gzzaw\\Desktop\\Masters\\WebScraping\\Project\\.venv\\lib\\site-packages\\selenium\\webdriver\\remote\\webelement.py:90\u001b[0m, in \u001b[0;36mWebElement.text\u001b[1;34m(self)\u001b[0m\n\u001b[0;32m     87\u001b[0m \u001b[38;5;129m@property\u001b[39m\n\u001b[0;32m     88\u001b[0m \u001b[38;5;28;01mdef\u001b[39;00m \u001b[38;5;21mtext\u001b[39m(\u001b[38;5;28mself\u001b[39m) \u001b[38;5;241m-\u001b[39m\u001b[38;5;241m>\u001b[39m \u001b[38;5;28mstr\u001b[39m:\n\u001b[0;32m     89\u001b[0m \u001b[38;5;250m    \u001b[39m\u001b[38;5;124;03m\"\"\"The text of the element.\"\"\"\u001b[39;00m\n\u001b[1;32m---> 90\u001b[0m     \u001b[38;5;28;01mreturn\u001b[39;00m \u001b[38;5;28;43mself\u001b[39;49m\u001b[38;5;241;43m.\u001b[39;49m\u001b[43m_execute\u001b[49m\u001b[43m(\u001b[49m\u001b[43mCommand\u001b[49m\u001b[38;5;241;43m.\u001b[39;49m\u001b[43mGET_ELEMENT_TEXT\u001b[49m\u001b[43m)\u001b[49m[\u001b[38;5;124m\"\u001b[39m\u001b[38;5;124mvalue\u001b[39m\u001b[38;5;124m\"\u001b[39m]\n",
      "File \u001b[1;32mc:\\Users\\gzzaw\\Desktop\\Masters\\WebScraping\\Project\\.venv\\lib\\site-packages\\selenium\\webdriver\\remote\\webelement.py:395\u001b[0m, in \u001b[0;36mWebElement._execute\u001b[1;34m(self, command, params)\u001b[0m\n\u001b[0;32m    393\u001b[0m     params \u001b[38;5;241m=\u001b[39m {}\n\u001b[0;32m    394\u001b[0m params[\u001b[38;5;124m\"\u001b[39m\u001b[38;5;124mid\u001b[39m\u001b[38;5;124m\"\u001b[39m] \u001b[38;5;241m=\u001b[39m \u001b[38;5;28mself\u001b[39m\u001b[38;5;241m.\u001b[39m_id\n\u001b[1;32m--> 395\u001b[0m \u001b[38;5;28;01mreturn\u001b[39;00m \u001b[38;5;28;43mself\u001b[39;49m\u001b[38;5;241;43m.\u001b[39;49m\u001b[43m_parent\u001b[49m\u001b[38;5;241;43m.\u001b[39;49m\u001b[43mexecute\u001b[49m\u001b[43m(\u001b[49m\u001b[43mcommand\u001b[49m\u001b[43m,\u001b[49m\u001b[43m \u001b[49m\u001b[43mparams\u001b[49m\u001b[43m)\u001b[49m\n",
      "File \u001b[1;32mc:\\Users\\gzzaw\\Desktop\\Masters\\WebScraping\\Project\\.venv\\lib\\site-packages\\selenium\\webdriver\\remote\\webdriver.py:347\u001b[0m, in \u001b[0;36mWebDriver.execute\u001b[1;34m(self, driver_command, params)\u001b[0m\n\u001b[0;32m    345\u001b[0m response \u001b[38;5;241m=\u001b[39m \u001b[38;5;28mself\u001b[39m\u001b[38;5;241m.\u001b[39mcommand_executor\u001b[38;5;241m.\u001b[39mexecute(driver_command, params)\n\u001b[0;32m    346\u001b[0m \u001b[38;5;28;01mif\u001b[39;00m response:\n\u001b[1;32m--> 347\u001b[0m     \u001b[38;5;28;43mself\u001b[39;49m\u001b[38;5;241;43m.\u001b[39;49m\u001b[43merror_handler\u001b[49m\u001b[38;5;241;43m.\u001b[39;49m\u001b[43mcheck_response\u001b[49m\u001b[43m(\u001b[49m\u001b[43mresponse\u001b[49m\u001b[43m)\u001b[49m\n\u001b[0;32m    348\u001b[0m     response[\u001b[38;5;124m\"\u001b[39m\u001b[38;5;124mvalue\u001b[39m\u001b[38;5;124m\"\u001b[39m] \u001b[38;5;241m=\u001b[39m \u001b[38;5;28mself\u001b[39m\u001b[38;5;241m.\u001b[39m_unwrap_value(response\u001b[38;5;241m.\u001b[39mget(\u001b[38;5;124m\"\u001b[39m\u001b[38;5;124mvalue\u001b[39m\u001b[38;5;124m\"\u001b[39m, \u001b[38;5;28;01mNone\u001b[39;00m))\n\u001b[0;32m    349\u001b[0m     \u001b[38;5;28;01mreturn\u001b[39;00m response\n",
      "File \u001b[1;32mc:\\Users\\gzzaw\\Desktop\\Masters\\WebScraping\\Project\\.venv\\lib\\site-packages\\selenium\\webdriver\\remote\\errorhandler.py:229\u001b[0m, in \u001b[0;36mErrorHandler.check_response\u001b[1;34m(self, response)\u001b[0m\n\u001b[0;32m    227\u001b[0m         alert_text \u001b[38;5;241m=\u001b[39m value[\u001b[38;5;124m\"\u001b[39m\u001b[38;5;124malert\u001b[39m\u001b[38;5;124m\"\u001b[39m]\u001b[38;5;241m.\u001b[39mget(\u001b[38;5;124m\"\u001b[39m\u001b[38;5;124mtext\u001b[39m\u001b[38;5;124m\"\u001b[39m)\n\u001b[0;32m    228\u001b[0m     \u001b[38;5;28;01mraise\u001b[39;00m exception_class(message, screen, stacktrace, alert_text)  \u001b[38;5;66;03m# type: ignore[call-arg]  # mypy is not smart enough here\u001b[39;00m\n\u001b[1;32m--> 229\u001b[0m \u001b[38;5;28;01mraise\u001b[39;00m exception_class(message, screen, stacktrace)\n",
      "\u001b[1;31mStaleElementReferenceException\u001b[0m: Message: stale element reference: stale element not found in the current frame\n  (Session info: chrome=123.0.6312.106); For documentation on this error, please visit: https://www.selenium.dev/documentation/webdriver/troubleshooting/errors#stale-element-reference-exception\nStacktrace:\n\tGetHandleVerifier [0x00F74CE3+225091]\n\t(No symbol) [0x00EA4E31]\n\t(No symbol) [0x00D49A7A]\n\t(No symbol) [0x00D4DEB0]\n\t(No symbol) [0x00D4F862]\n\t(No symbol) [0x00D4F8E0]\n\t(No symbol) [0x00D7DC71]\n\t(No symbol) [0x00D9F55C]\n\t(No symbol) [0x00D7930E]\n\t(No symbol) [0x00D9F7F4]\n\t(No symbol) [0x00DB5CB0]\n\t(No symbol) [0x00D9F2F6]\n\t(No symbol) [0x00D779B9]\n\t(No symbol) [0x00D7879D]\n\tsqlite3_dbdata_init [0x013E9A83+4064547]\n\tsqlite3_dbdata_init [0x013F108A+4094762]\n\tsqlite3_dbdata_init [0x013EB988+4072488]\n\tsqlite3_dbdata_init [0x010EC9E9+930953]\n\t(No symbol) [0x00EB0804]\n\t(No symbol) [0x00EAAD28]\n\t(No symbol) [0x00EAAE51]\n\t(No symbol) [0x00E9CAC0]\n\tBaseThreadInitThunk [0x76147BA9+25]\n\tRtlInitializeExceptionChain [0x7732BE3B+107]\n\tRtlClearBits [0x7732BDBF+191]\n"
     ]
    }
   ],
   "source": [
    "import requests\n",
    "from bs4 import BeautifulSoup as bs\n",
    "from selenium import webdriver\n",
    "from selenium.webdriver.chrome.service import Service\n",
    "from webdriver_manager.chrome import ChromeDriverManager\n",
    "from selenium.webdriver.common.by import By\n",
    "from selenium.webdriver.support.ui import WebDriverWait\n",
    "from selenium.webdriver.support import expected_conditions as EC\n",
    "import pandas as pd\n",
    "from selenium.common.exceptions import TimeoutException\n",
    "# import time\n",
    "\n",
    "chrome_options = webdriver.ChromeOptions()\n",
    "chrome_options.add_argument(\"--disable-notifications\")  # Disable notifications\n",
    "\n",
    "browser = webdriver.Chrome(service=Service(ChromeDriverManager().install()), options=chrome_options)\n",
    "\n",
    "browser.get(\"https://www.nasdaq.com/market-activity/analyst-forecast-change\")\n",
    "\n",
    "accept_button = WebDriverWait(browser, 10).until(EC.element_to_be_clickable((By.XPATH, \"//button[contains(text(),'I Accept')]\")))\n",
    "\n",
    "accept_button.click()\n",
    "data=[]\n",
    "browser.implicitly_wait(3)\n",
    "page_number= \".pagination__page[data-page='{num}']\"\n",
    "for i in range(1,18):\n",
    "    x=page_number.format(num=i)\n",
    "    element = browser.find_element(By.CSS_SELECTOR,x)\n",
    "    try:\n",
    "        element = browser.find_element(By.CSS_SELECTOR, x)\n",
    "        WebDriverWait(browser, 10).until(EC.element_to_be_clickable((By.CSS_SELECTOR, x))).click()\n",
    "    except:\n",
    "        element = browser.find_element(By.CSS_SELECTOR, x)\n",
    "        WebDriverWait(browser, 10).until(EC.element_to_be_clickable((By.CSS_SELECTOR, x))).click()\n",
    "    browser.implicitly_wait(5)\n",
    "\n",
    "    rows = browser.find_elements(By.XPATH, \"//table[@class='analyst-forecast-change__table']//tbody//tr\")\n",
    "    for row in rows:\n",
    "        try:\n",
    "            cells = WebDriverWait(row, 10).until(\n",
    "                EC.presence_of_all_elements_located((By.XPATH, \".//td\"))\n",
    "            )\n",
    "            row_data = [cell.text for cell in cells]\n",
    "            data.append(row_data)\n",
    "        except TimeoutException:\n",
    "            print(f\"Timeout while waiting for cells in a row on page {i}\")\n",
    "\n",
    "        rows = browser.find_elements(By.XPATH, \"//table[@class='analyst-forecast-change__table']//tbody//tr\")\n"
   ]
  }
 ],
 "metadata": {
  "kernelspec": {
   "display_name": "base",
   "language": "python",
   "name": "python3"
  },
  "language_info": {
   "codemirror_mode": {
    "name": "ipython",
    "version": 3
   },
   "file_extension": ".py",
   "mimetype": "text/x-python",
   "name": "python",
   "nbconvert_exporter": "python",
   "pygments_lexer": "ipython3",
   "version": "3.10.0"
  }
 },
 "nbformat": 4,
 "nbformat_minor": 2
}
